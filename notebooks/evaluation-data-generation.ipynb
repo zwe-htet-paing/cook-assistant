{
 "cells": [
  {
   "cell_type": "code",
   "execution_count": 12,
   "metadata": {},
   "outputs": [],
   "source": [
    "import pandas as pd\n",
    "from openai import OpenAI\n",
    "\n",
    "client = OpenAI()"
   ]
  },
  {
   "cell_type": "code",
   "execution_count": 13,
   "metadata": {},
   "outputs": [],
   "source": [
    "df = pd.read_csv(\"../data/data.csv\")"
   ]
  },
  {
   "cell_type": "code",
   "execution_count": 14,
   "metadata": {},
   "outputs": [
    {
     "data": {
      "text/plain": [
       "{'id': 0,\n",
       " 'recipe_name': 'Spaghetti Bolognese',\n",
       " 'type_of_dish': 'Main Course',\n",
       " 'main_ingredient': 'Beef',\n",
       " 'cuisine': 'Italian',\n",
       " 'cooking_method': 'Simmering',\n",
       " 'prep_time': '10 minutes',\n",
       " 'cook_time': '40 minutes',\n",
       " 'instructions': 'Heat olive oil in a large pan over medium heat. Add finely chopped onions, carrots, and celery. Cook for 5-7 minutes until softened. Add minced beef and cook until browned. Pour in canned tomatoes, beef broth, and Italian herbs. Simmer uncovered for 30-40 minutes. Stir occasionally and season with salt and pepper. Serve over cooked spaghetti and garnish with fresh basil.'}"
      ]
     },
     "execution_count": 14,
     "metadata": {},
     "output_type": "execute_result"
    }
   ],
   "source": [
    "documents = df.to_dict(orient=\"records\")\n",
    "documents[0]"
   ]
  },
  {
   "cell_type": "code",
   "execution_count": 31,
   "metadata": {},
   "outputs": [],
   "source": [
    "prompt_template = \"\"\"\n",
    "You emulate a user of our Cooking Assistant application.\n",
    "Formulate 5 questions this user might ask based on a provided recipe.\n",
    "Make the questions specific to this recipe.\n",
    "The record should contain the answer to the questions, and the questions should\n",
    "be complete and not too short. Use as few words as possible from the record.\n",
    "\n",
    "The record:\n",
    "\n",
    "recipe_name: {recipe_name}\n",
    "type_of_dish: {type_of_dish}\n",
    "main_ingredient: {main_ingredient}\n",
    "cuisine: {cuisine}\n",
    "cooking_method: {cooking_method}\n",
    "prep_time: {prep_time}\n",
    "cook_time: {cook_time}\n",
    "instructions: {instructions}\n",
    "\n",
    "Provide the output in parsable JSON without using code blocks:\n",
    "\n",
    "dict(\"questions\": [\"question1\", \"question2\", ..., \"question5\"])\n",
    "\"\"\".strip()"
   ]
  },
  {
   "cell_type": "code",
   "execution_count": 33,
   "metadata": {},
   "outputs": [
    {
     "name": "stdout",
     "output_type": "stream",
     "text": [
      "You emulate a user of our Cooking Assistant application.\n",
      "Formulate 5 questions this user might ask based on a provided recipe.\n",
      "Make the questions specific to this recipe.\n",
      "The record should contain the answer to the questions, and the questions should\n",
      "be complete and not too short. Use as few words as possible from the record.\n",
      "\n",
      "The record:\n",
      "\n",
      "recipe_name: Spaghetti Bolognese\n",
      "type_of_dish: Main Course\n",
      "main_ingredient: Beef\n",
      "cuisine: Italian\n",
      "cooking_method: Simmering\n",
      "prep_time: 10 minutes\n",
      "cook_time: 40 minutes\n",
      "instructions: Heat olive oil in a large pan over medium heat. Add finely chopped onions, carrots, and celery. Cook for 5-7 minutes until softened. Add minced beef and cook until browned. Pour in canned tomatoes, beef broth, and Italian herbs. Simmer uncovered for 30-40 minutes. Stir occasionally and season with salt and pepper. Serve over cooked spaghetti and garnish with fresh basil.\n",
      "\n",
      "Provide the output in parsable JSON without using code blocks:\n",
      "\n",
      "dict(\"questions\": [\"question1\", \"question2\", ..., \"question5\"])\n"
     ]
    }
   ],
   "source": [
    "prompt = prompt_template.format(**documents[0])\n",
    "print(prompt)"
   ]
  },
  {
   "cell_type": "code",
   "execution_count": 34,
   "metadata": {},
   "outputs": [],
   "source": [
    "def llm(prompt):\n",
    "    response = client.chat.completions.create(\n",
    "        model='gpt-4o-mini',\n",
    "        messages=[{\"role\": \"user\", \"content\": prompt}]\n",
    "    )\n",
    "    \n",
    "    return response.choices[0].message.content"
   ]
  },
  {
   "cell_type": "code",
   "execution_count": 39,
   "metadata": {},
   "outputs": [],
   "source": [
    "questions = llm(prompt)"
   ]
  },
  {
   "cell_type": "code",
   "execution_count": 40,
   "metadata": {},
   "outputs": [
    {
     "name": "stdout",
     "output_type": "stream",
     "text": [
      "{\n",
      "  \"questions\": [\n",
      "    \"How long does it take to prepare the Spaghetti Bolognese?\",\n",
      "    \"What type of meat is used in this recipe for Bolognese?\",\n",
      "    \"What cooking method is used for the Spaghetti Bolognese?\",\n",
      "    \"Which vegetables should I chop for the sauce?\",\n",
      "    \"What should I garnish the dish with before serving?\"\n",
      "  ]\n",
      "}\n"
     ]
    }
   ],
   "source": [
    "print(questions)"
   ]
  },
  {
   "cell_type": "code",
   "execution_count": 41,
   "metadata": {},
   "outputs": [],
   "source": [
    "import json"
   ]
  },
  {
   "cell_type": "code",
   "execution_count": 42,
   "metadata": {},
   "outputs": [
    {
     "data": {
      "text/plain": [
       "{'questions': ['How long does it take to prepare the Spaghetti Bolognese?',\n",
       "  'What type of meat is used in this recipe for Bolognese?',\n",
       "  'What cooking method is used for the Spaghetti Bolognese?',\n",
       "  'Which vegetables should I chop for the sauce?',\n",
       "  'What should I garnish the dish with before serving?']}"
      ]
     },
     "execution_count": 42,
     "metadata": {},
     "output_type": "execute_result"
    }
   ],
   "source": [
    "json.loads(questions)"
   ]
  },
  {
   "cell_type": "code",
   "execution_count": 43,
   "metadata": {},
   "outputs": [],
   "source": [
    "def generate_questions(doc):\n",
    "    prompt = prompt_template.format(**doc)\n",
    "\n",
    "    response = client.chat.completions.create(\n",
    "        model='gpt-4o-mini',\n",
    "        messages=[{\"role\": \"user\", \"content\": prompt}]\n",
    "    )\n",
    "\n",
    "    json_response = response.choices[0].message.content\n",
    "    return json_response"
   ]
  },
  {
   "cell_type": "code",
   "execution_count": 44,
   "metadata": {},
   "outputs": [],
   "source": [
    "from tqdm.auto import tqdm"
   ]
  },
  {
   "cell_type": "code",
   "execution_count": 45,
   "metadata": {},
   "outputs": [
    {
     "data": {
      "application/vnd.jupyter.widget-view+json": {
       "model_id": "d7a18de6975a4dc298f1b441612bc8dd",
       "version_major": 2,
       "version_minor": 0
      },
      "text/plain": [
       "  0%|          | 0/182 [00:00<?, ?it/s]"
      ]
     },
     "metadata": {},
     "output_type": "display_data"
    }
   ],
   "source": [
    "results = {}\n",
    "for doc in tqdm(documents): \n",
    "    doc_id = doc['id']\n",
    "    if doc_id in results:\n",
    "        continue\n",
    "\n",
    "    questions_raw = generate_questions(doc)\n",
    "    questions = json.loads(questions_raw)\n",
    "    results[doc_id] = questions['questions']"
   ]
  },
  {
   "cell_type": "code",
   "execution_count": 46,
   "metadata": {},
   "outputs": [],
   "source": [
    "final_results = []\n",
    "\n",
    "for doc_id, questions in results.items():\n",
    "    for q in questions:\n",
    "        final_results.append((doc_id, q))"
   ]
  },
  {
   "cell_type": "code",
   "execution_count": 47,
   "metadata": {},
   "outputs": [],
   "source": [
    "df_results = pd.DataFrame(final_results, columns=['id', 'question'])"
   ]
  },
  {
   "cell_type": "code",
   "execution_count": 48,
   "metadata": {},
   "outputs": [],
   "source": [
    "df_results.to_csv('../data/ground-truth-retrieval.csv', index=False)\n"
   ]
  },
  {
   "cell_type": "code",
   "execution_count": 49,
   "metadata": {},
   "outputs": [
    {
     "name": "stdout",
     "output_type": "stream",
     "text": [
      "id,question\n",
      "0,\"What should I do after cooking the onions, carrots, and celery?\"\n",
      "0,How long should I simmer the mixture after adding the canned tomatoes?\n",
      "0,What ingredients do I need to season the Bolognese sauce?\n",
      "0,How long does it take to prepare the ingredients for this recipe?\n",
      "0,What type of pasta is recommended to serve with the Bolognese sauce?\n",
      "1,How long does it take to prepare the ingredients for the chicken curry?\n",
      "1,What should I do after sautéing the onions until golden brown?\n",
      "1,How long do I need to simmer the chicken curry for optimal flavor?\n",
      "1,What dishes are recommended to serve alongside this chicken curry?\n"
     ]
    }
   ],
   "source": [
    "!head ../data/ground-truth-retrieval.csv"
   ]
  },
  {
   "cell_type": "code",
   "execution_count": null,
   "metadata": {},
   "outputs": [],
   "source": []
  }
 ],
 "metadata": {
  "kernelspec": {
   "display_name": ".venv",
   "language": "python",
   "name": "python3"
  },
  "language_info": {
   "codemirror_mode": {
    "name": "ipython",
    "version": 3
   },
   "file_extension": ".py",
   "mimetype": "text/x-python",
   "name": "python",
   "nbconvert_exporter": "python",
   "pygments_lexer": "ipython3",
   "version": "3.12.5"
  }
 },
 "nbformat": 4,
 "nbformat_minor": 2
}
